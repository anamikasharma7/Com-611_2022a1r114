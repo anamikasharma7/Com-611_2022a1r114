{
 "cells": [
  {
   "cell_type": "code",
   "execution_count": 3,
   "id": "adb69081-400c-4c25-8ae3-8d758d814e8f",
   "metadata": {},
   "outputs": [
    {
     "name": "stdout",
     "output_type": "stream",
     "text": [
      "\n",
      " The Given Training Data Set\n",
      "\n",
      "['Sunny', 'Warm', 'Normal', 'Strong', 'Warm', 'Same', 'Yes']\n",
      "['Sunny', 'Warm', 'High', 'Strong', 'Warm', 'Same', 'Yes']\n",
      "['Rainy', 'Cold', 'High', 'Strong', 'Warm', 'Change', 'No']\n",
      "['Sunny', 'Warm', 'High', 'Strong', 'Cool', 'Change', 'Yes']\n",
      "\n",
      " The initial value of hypothesis:\n",
      "['0', '0', '0', '0', '0', '0']\n",
      "\n",
      " Find S: Finding a maximally Specific Hypothesis\n",
      "\n",
      "For Training instance No:1 the hypothesis is ['Sunny', 'Warm', 'Normal', 'Strong', 'Warm', 'Same']\n",
      "For Training instance No:2 the hypothesis is ['Sunny', 'Warm', '?', 'Strong', 'Warm', 'Same']\n",
      "For Training instance No:3 the hypothesis is ['Sunny', 'Warm', '?', 'Strong', 'Warm', 'Same']\n",
      "For Training instance No:4 the hypothesis is ['Sunny', 'Warm', '?', 'Strong', '?', '?']\n",
      "\n",
      " The Maximally Specific Hypothesis for a given  Training Examples:\n",
      "\n",
      "['Sunny', 'Warm', '?', 'Strong', '?', '?']\n"
     ]
    }
   ],
   "source": [
    "import csv\n",
    "num_attributes=6\n",
    "a=[]\n",
    "print(\"\\n The Given Training Data Set\\n\")\n",
    "with open ('exp1.csv','r') as csvfile:\n",
    "    reader = csv.reader(csvfile)\n",
    "    for row in reader:\n",
    "        a.append(row)\n",
    "        print(row)\n",
    "        \n",
    "print(\"\\n The initial value of hypothesis:\")\n",
    "hypothesis=['0']*num_attributes\n",
    "print(hypothesis)\n",
    "\n",
    "#Initialize hypothesis with the first positive examples\n",
    "for j in range(0,num_attributes):\n",
    "    hypothesis[j]=a[0][j]\n",
    "    \n",
    "print(\"\\n Find S: Finding a maximally Specific Hypothesis\\n\")\n",
    "\n",
    "for i in range(0,len(a)): #loop through training examples\n",
    "    if a[i][num_attributes] == 'Yes': #Consider only positive examples\n",
    "        for j in range(0,num_attributes):\n",
    "            if a[i][j] != hypothesis[j]:\n",
    "                hypothesis[j]='?'\n",
    "            else:\n",
    "                hypothesis[j]=a[i][j]\n",
    "                \n",
    "    #Changed training instance number from (i) to (i+1)\n",
    "    print(\"For Training instance No:{0} the hypothesis is\".format(i+1),hypothesis)\n",
    "    \n",
    "print(\"\\n The Maximally Specific Hypothesis for a given  Training Examples:\\n\")\n",
    "print(hypothesis)"
   ]
  },
  {
   "cell_type": "code",
   "execution_count": null,
   "id": "96f8edca-1355-49db-95fb-273245e6a395",
   "metadata": {},
   "outputs": [],
   "source": []
  }
 ],
 "metadata": {
  "kernelspec": {
   "display_name": "Python 3 (ipykernel)",
   "language": "python",
   "name": "python3"
  },
  "language_info": {
   "codemirror_mode": {
    "name": "ipython",
    "version": 3
   },
   "file_extension": ".py",
   "mimetype": "text/x-python",
   "name": "python",
   "nbconvert_exporter": "python",
   "pygments_lexer": "ipython3",
   "version": "3.12.4"
  }
 },
 "nbformat": 4,
 "nbformat_minor": 5
}
